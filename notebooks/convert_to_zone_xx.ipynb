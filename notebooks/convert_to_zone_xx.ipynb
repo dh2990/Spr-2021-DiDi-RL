{
 "cells": [
  {
   "cell_type": "markdown",
   "metadata": {},
   "source": [
    "## Capstone Project - Columbia DSI - DiDi \n",
    "#### Authors:  Danyang Han,  Anita Pinto,  Elizabeth Yum\n",
    "This file is used to convert the trip longituide/lattitude data from the trip data file to taxi zones for both pick up and drop \n",
    "Reference: https://github.com/skyetim/didi-vehicle-repositioning-strategy(Fall 2020 Capstone Project) "
   ]
  },
  {
   "cell_type": "code",
   "execution_count": 1,
   "metadata": {},
   "outputs": [],
   "source": [
    "#!pip install fiona\n",
    "#!pip install shapely\n",
    "#!pip install geopandas\n",
    "import fiona\n",
    "import pandas as pd\n",
    "import shapely\n",
    "import geopandas\n",
    "from shapely.geometry import shape,mapping, Point, Polygon, MultiPolygon\n",
    "import matplotlib.pyplot as plt\n"
   ]
  },
  {
   "cell_type": "code",
   "execution_count": 2,
   "metadata": {},
   "outputs": [
    {
     "name": "stderr",
     "output_type": "stream",
     "text": [
      "/Users/anita/opt/anaconda3/envs/DiDi/lib/python3.7/site-packages/IPython/core/interactiveshell.py:3156: DtypeWarning: Columns (4) have mixed types.Specify dtype option on import or set low_memory=False.\n",
      "  interactivity=interactivity, compiler=compiler, result=result)\n"
     ]
    }
   ],
   "source": [
    "#df = pd.read_csv(\"./Data/trip_data_1.csv\", error_bad_lines=False)\n",
    "df_org= pd.read_csv(\"../data/trip_data_1.csv\", error_bad_lines=False)\n",
    "\n"
   ]
  },
  {
   "cell_type": "markdown",
   "metadata": {},
   "source": [
    "#### Fetch records for only driver 2010000001"
   ]
  },
  {
   "cell_type": "code",
   "execution_count": 3,
   "metadata": {},
   "outputs": [
    {
     "data": {
      "text/html": [
       "<div>\n",
       "<style scoped>\n",
       "    .dataframe tbody tr th:only-of-type {\n",
       "        vertical-align: middle;\n",
       "    }\n",
       "\n",
       "    .dataframe tbody tr th {\n",
       "        vertical-align: top;\n",
       "    }\n",
       "\n",
       "    .dataframe thead th {\n",
       "        text-align: right;\n",
       "    }\n",
       "</style>\n",
       "<table border=\"1\" class=\"dataframe\">\n",
       "  <thead>\n",
       "    <tr style=\"text-align: right;\">\n",
       "      <th></th>\n",
       "      <th>medallion</th>\n",
       "      <th>hack_license</th>\n",
       "      <th>vendor_id</th>\n",
       "      <th>rate_code</th>\n",
       "      <th>store_and_fwd_flag</th>\n",
       "      <th>pickup_datetime</th>\n",
       "      <th>dropoff_datetime</th>\n",
       "      <th>passenger_count</th>\n",
       "      <th>trip_time_in_secs</th>\n",
       "      <th>trip_distance</th>\n",
       "      <th>pickup_longitude</th>\n",
       "      <th>pickup_latitude</th>\n",
       "      <th>dropoff_longitude</th>\n",
       "      <th>dropoff_latitude</th>\n",
       "    </tr>\n",
       "  </thead>\n",
       "  <tbody>\n",
       "    <tr>\n",
       "      <th>0</th>\n",
       "      <td>2010000001</td>\n",
       "      <td>2010000001</td>\n",
       "      <td>VTS</td>\n",
       "      <td>1</td>\n",
       "      <td>NaN</td>\n",
       "      <td>2010-01-01 00:00:00</td>\n",
       "      <td>2010-01-01 00:34:00</td>\n",
       "      <td>1</td>\n",
       "      <td>34.0</td>\n",
       "      <td>14.05</td>\n",
       "      <td>-73.948418</td>\n",
       "      <td>40.724590</td>\n",
       "      <td>-73.926140</td>\n",
       "      <td>40.864761</td>\n",
       "    </tr>\n",
       "    <tr>\n",
       "      <th>16351</th>\n",
       "      <td>2010000001</td>\n",
       "      <td>2010000001</td>\n",
       "      <td>VTS</td>\n",
       "      <td>1</td>\n",
       "      <td>NaN</td>\n",
       "      <td>2010-01-01 00:38:00</td>\n",
       "      <td>2010-01-01 00:55:00</td>\n",
       "      <td>3</td>\n",
       "      <td>17.0</td>\n",
       "      <td>4.81</td>\n",
       "      <td>-73.924988</td>\n",
       "      <td>40.861774</td>\n",
       "      <td>-73.925735</td>\n",
       "      <td>40.809376</td>\n",
       "    </tr>\n",
       "    <tr>\n",
       "      <th>30295</th>\n",
       "      <td>2010000001</td>\n",
       "      <td>2010000001</td>\n",
       "      <td>VTS</td>\n",
       "      <td>1</td>\n",
       "      <td>NaN</td>\n",
       "      <td>2010-01-01 01:03:00</td>\n",
       "      <td>2010-01-01 01:13:00</td>\n",
       "      <td>2</td>\n",
       "      <td>10.0</td>\n",
       "      <td>2.30</td>\n",
       "      <td>-73.937386</td>\n",
       "      <td>40.797436</td>\n",
       "      <td>-73.968666</td>\n",
       "      <td>40.794395</td>\n",
       "    </tr>\n",
       "    <tr>\n",
       "      <th>36468</th>\n",
       "      <td>2010000001</td>\n",
       "      <td>2010000001</td>\n",
       "      <td>VTS</td>\n",
       "      <td>1</td>\n",
       "      <td>NaN</td>\n",
       "      <td>2010-01-01 01:14:00</td>\n",
       "      <td>2010-01-01 01:18:00</td>\n",
       "      <td>2</td>\n",
       "      <td>4.0</td>\n",
       "      <td>0.76</td>\n",
       "      <td>-73.968666</td>\n",
       "      <td>40.794495</td>\n",
       "      <td>-73.961273</td>\n",
       "      <td>40.796570</td>\n",
       "    </tr>\n",
       "    <tr>\n",
       "      <th>308897</th>\n",
       "      <td>2010000001</td>\n",
       "      <td>2010000001</td>\n",
       "      <td>VTS</td>\n",
       "      <td>1</td>\n",
       "      <td>NaN</td>\n",
       "      <td>2010-01-01 18:42:00</td>\n",
       "      <td>2010-01-01 19:10:00</td>\n",
       "      <td>1</td>\n",
       "      <td>28.0</td>\n",
       "      <td>17.74</td>\n",
       "      <td>-73.783813</td>\n",
       "      <td>40.648659</td>\n",
       "      <td>-73.971901</td>\n",
       "      <td>40.693054</td>\n",
       "    </tr>\n",
       "    <tr>\n",
       "      <th>335196</th>\n",
       "      <td>2010000001</td>\n",
       "      <td>2010000001</td>\n",
       "      <td>VTS</td>\n",
       "      <td>1</td>\n",
       "      <td>NaN</td>\n",
       "      <td>2010-01-01 20:04:00</td>\n",
       "      <td>2010-01-01 20:48:00</td>\n",
       "      <td>1</td>\n",
       "      <td>44.0</td>\n",
       "      <td>18.20</td>\n",
       "      <td>-73.788696</td>\n",
       "      <td>40.641308</td>\n",
       "      <td>-73.985748</td>\n",
       "      <td>40.759399</td>\n",
       "    </tr>\n",
       "    <tr>\n",
       "      <th>347365</th>\n",
       "      <td>2010000001</td>\n",
       "      <td>2010000001</td>\n",
       "      <td>VTS</td>\n",
       "      <td>1</td>\n",
       "      <td>NaN</td>\n",
       "      <td>2010-01-01 20:49:00</td>\n",
       "      <td>2010-01-01 20:59:00</td>\n",
       "      <td>2</td>\n",
       "      <td>10.0</td>\n",
       "      <td>2.52</td>\n",
       "      <td>-73.986237</td>\n",
       "      <td>40.759514</td>\n",
       "      <td>-73.990334</td>\n",
       "      <td>40.736927</td>\n",
       "    </tr>\n",
       "    <tr>\n",
       "      <th>391885</th>\n",
       "      <td>2010000001</td>\n",
       "      <td>2010000001</td>\n",
       "      <td>VTS</td>\n",
       "      <td>1</td>\n",
       "      <td>NaN</td>\n",
       "      <td>2010-01-01 23:24:00</td>\n",
       "      <td>2010-01-01 23:32:00</td>\n",
       "      <td>1</td>\n",
       "      <td>8.0</td>\n",
       "      <td>3.73</td>\n",
       "      <td>-73.776588</td>\n",
       "      <td>40.644917</td>\n",
       "      <td>-73.806030</td>\n",
       "      <td>40.665817</td>\n",
       "    </tr>\n",
       "    <tr>\n",
       "      <th>649110</th>\n",
       "      <td>2010000001</td>\n",
       "      <td>2010000001</td>\n",
       "      <td>VTS</td>\n",
       "      <td>1</td>\n",
       "      <td>NaN</td>\n",
       "      <td>2010-01-02 18:00:00</td>\n",
       "      <td>2010-01-02 18:53:00</td>\n",
       "      <td>2</td>\n",
       "      <td>53.0</td>\n",
       "      <td>21.27</td>\n",
       "      <td>-73.776703</td>\n",
       "      <td>40.645378</td>\n",
       "      <td>-73.978172</td>\n",
       "      <td>40.776268</td>\n",
       "    </tr>\n",
       "    <tr>\n",
       "      <th>675167</th>\n",
       "      <td>2010000001</td>\n",
       "      <td>2010000001</td>\n",
       "      <td>VTS</td>\n",
       "      <td>1</td>\n",
       "      <td>NaN</td>\n",
       "      <td>2010-01-02 18:57:00</td>\n",
       "      <td>2010-01-02 19:07:00</td>\n",
       "      <td>2</td>\n",
       "      <td>10.0</td>\n",
       "      <td>1.76</td>\n",
       "      <td>-73.981781</td>\n",
       "      <td>40.773548</td>\n",
       "      <td>-73.967918</td>\n",
       "      <td>40.755630</td>\n",
       "    </tr>\n",
       "  </tbody>\n",
       "</table>\n",
       "</div>"
      ],
      "text/plain": [
       "         medallion   hack_license  vendor_id   rate_code  store_and_fwd_flag  \\\n",
       "0       2010000001     2010000001        VTS           1                 NaN   \n",
       "16351   2010000001     2010000001        VTS           1                 NaN   \n",
       "30295   2010000001     2010000001        VTS           1                 NaN   \n",
       "36468   2010000001     2010000001        VTS           1                 NaN   \n",
       "308897  2010000001     2010000001        VTS           1                 NaN   \n",
       "335196  2010000001     2010000001        VTS           1                 NaN   \n",
       "347365  2010000001     2010000001        VTS           1                 NaN   \n",
       "391885  2010000001     2010000001        VTS           1                 NaN   \n",
       "649110  2010000001     2010000001        VTS           1                 NaN   \n",
       "675167  2010000001     2010000001        VTS           1                 NaN   \n",
       "\n",
       "            pickup_datetime     dropoff_datetime   passenger_count  \\\n",
       "0       2010-01-01 00:00:00  2010-01-01 00:34:00                 1   \n",
       "16351   2010-01-01 00:38:00  2010-01-01 00:55:00                 3   \n",
       "30295   2010-01-01 01:03:00  2010-01-01 01:13:00                 2   \n",
       "36468   2010-01-01 01:14:00  2010-01-01 01:18:00                 2   \n",
       "308897  2010-01-01 18:42:00  2010-01-01 19:10:00                 1   \n",
       "335196  2010-01-01 20:04:00  2010-01-01 20:48:00                 1   \n",
       "347365  2010-01-01 20:49:00  2010-01-01 20:59:00                 2   \n",
       "391885  2010-01-01 23:24:00  2010-01-01 23:32:00                 1   \n",
       "649110  2010-01-02 18:00:00  2010-01-02 18:53:00                 2   \n",
       "675167  2010-01-02 18:57:00  2010-01-02 19:07:00                 2   \n",
       "\n",
       "         trip_time_in_secs   trip_distance   pickup_longitude  \\\n",
       "0                     34.0           14.05         -73.948418   \n",
       "16351                 17.0            4.81         -73.924988   \n",
       "30295                 10.0            2.30         -73.937386   \n",
       "36468                  4.0            0.76         -73.968666   \n",
       "308897                28.0           17.74         -73.783813   \n",
       "335196                44.0           18.20         -73.788696   \n",
       "347365                10.0            2.52         -73.986237   \n",
       "391885                 8.0            3.73         -73.776588   \n",
       "649110                53.0           21.27         -73.776703   \n",
       "675167                10.0            1.76         -73.981781   \n",
       "\n",
       "         pickup_latitude   dropoff_longitude   dropoff_latitude  \n",
       "0              40.724590          -73.926140          40.864761  \n",
       "16351          40.861774          -73.925735          40.809376  \n",
       "30295          40.797436          -73.968666          40.794395  \n",
       "36468          40.794495          -73.961273          40.796570  \n",
       "308897         40.648659          -73.971901          40.693054  \n",
       "335196         40.641308          -73.985748          40.759399  \n",
       "347365         40.759514          -73.990334          40.736927  \n",
       "391885         40.644917          -73.806030          40.665817  \n",
       "649110         40.645378          -73.978172          40.776268  \n",
       "675167         40.773548          -73.967918          40.755630  "
      ]
     },
     "execution_count": 3,
     "metadata": {},
     "output_type": "execute_result"
    }
   ],
   "source": [
    "dr_1 = df_org.loc[(df_org[\" hack_license\"]==2010000001), :]\n",
    "dr_1.head(10)"
   ]
  },
  {
   "cell_type": "code",
   "execution_count": 4,
   "metadata": {},
   "outputs": [
    {
     "data": {
      "text/plain": [
       "(258, 14)"
      ]
     },
     "execution_count": 4,
     "metadata": {},
     "output_type": "execute_result"
    }
   ],
   "source": [
    "#Shape of the dr_1 dataframe\n",
    "dr_1.shape"
   ]
  },
  {
   "cell_type": "code",
   "execution_count": 5,
   "metadata": {},
   "outputs": [
    {
     "name": "stdout",
     "output_type": "stream",
     "text": [
      "(258, 14)\n"
     ]
    }
   ],
   "source": [
    "#Copy dr_1 into dff \n",
    "dff = dr_1.copy()\n",
    "#df = df_org.iloc[0:1000000,:]\n",
    "#print(df.shape)\n",
    "#dff = df.iloc[0:1000000,:]\n",
    "print(dff.shape)"
   ]
  },
  {
   "cell_type": "code",
   "execution_count": 6,
   "metadata": {},
   "outputs": [
    {
     "data": {
      "text/plain": [
       "(263, 7)"
      ]
     },
     "execution_count": 6,
     "metadata": {},
     "output_type": "execute_result"
    }
   ],
   "source": [
    "#Just checking the shapes files by importing using geopandas\n",
    "shape_df = geopandas.read_file('../taxi_zones/taxi_zones.shp')\n",
    "shape_df.shape"
   ]
  },
  {
   "cell_type": "code",
   "execution_count": 9,
   "metadata": {},
   "outputs": [],
   "source": [
    "# https://towardsdatascience.com/geospatial-operations-at-scale-with-dask-and-geopandas-4d92d00eb7e8\n",
    "def assign_taxi_zones(df, lon_var, lat_var, locid_var):\n",
    "\n",
    "    import geopandas\n",
    "    from shapely.geometry import Point\n",
    "\n",
    "    localdf = df[[lon_var, lat_var]].copy()\n",
    "    \n",
    "    localdf[lon_var] = localdf[lon_var].fillna(value=0.)\n",
    "    localdf[lat_var] = localdf[lat_var].fillna(value=0.)\n",
    "    \n",
    "    shape_df = geopandas.read_file('../taxi_zones/taxi_zones.shp')\n",
    "    \n",
    "    shape_df = shape_df.to_crs({'init': 'epsg:4326'})\n",
    "    try:\n",
    "        local_gdf = geopandas.GeoDataFrame(\n",
    "            localdf, crs={'init': 'epsg:4326'},\n",
    "            geometry=[Point(xy) for xy in\n",
    "                      zip(localdf[lon_var], localdf[lat_var])])\n",
    "\n",
    "        local_gdf = geopandas.sjoin(\n",
    "            local_gdf, shape_df, how='left', op='within')\n",
    "\n",
    "        return local_gdf.OBJECTID.rename(locid_var)\n",
    "    except ValueError as ve:\n",
    "        print(ve)\n",
    "        print(ve.stacktrace())\n",
    "        series = localdf[lon_var]\n",
    "        series = np.nan\n",
    "        return series"
   ]
  },
  {
   "cell_type": "code",
   "execution_count": 10,
   "metadata": {},
   "outputs": [
    {
     "name": "stderr",
     "output_type": "stream",
     "text": [
      "/Users/anita/opt/anaconda3/envs/DiDi/lib/python3.7/site-packages/pyproj/crs/crs.py:53: FutureWarning: '+init=<authority>:<code>' syntax is deprecated. '<authority>:<code>' is the preferred initialization method. When making the change, be mindful of axis order changes: https://pyproj4.github.io/pyproj/stable/gotchas.html#axis-order-changes-in-proj-6\n",
      "  return _prepare_from_string(\" \".join(pjargs))\n",
      "/Users/anita/opt/anaconda3/envs/DiDi/lib/python3.7/site-packages/pyproj/crs/crs.py:53: FutureWarning: '+init=<authority>:<code>' syntax is deprecated. '<authority>:<code>' is the preferred initialization method. When making the change, be mindful of axis order changes: https://pyproj4.github.io/pyproj/stable/gotchas.html#axis-order-changes-in-proj-6\n",
      "  return _prepare_from_string(\" \".join(pjargs))\n"
     ]
    }
   ],
   "source": [
    "dff = dff.join(assign_taxi_zones(dff, \" pickup_longitude\", \" pickup_latitude\", \"pickup_taxizone_id\"))\n",
    "dff = dff.join(assign_taxi_zones(dff, \" dropoff_longitude\", \" dropoff_latitude\", \"dropoff_taxizone_id\"))"
   ]
  },
  {
   "cell_type": "code",
   "execution_count": null,
   "metadata": {},
   "outputs": [],
   "source": [
    "#dff.to_csv('result.csv',index=False)"
   ]
  },
  {
   "cell_type": "code",
   "execution_count": 11,
   "metadata": {},
   "outputs": [
    {
     "data": {
      "text/html": [
       "<div>\n",
       "<style scoped>\n",
       "    .dataframe tbody tr th:only-of-type {\n",
       "        vertical-align: middle;\n",
       "    }\n",
       "\n",
       "    .dataframe tbody tr th {\n",
       "        vertical-align: top;\n",
       "    }\n",
       "\n",
       "    .dataframe thead th {\n",
       "        text-align: right;\n",
       "    }\n",
       "</style>\n",
       "<table border=\"1\" class=\"dataframe\">\n",
       "  <thead>\n",
       "    <tr style=\"text-align: right;\">\n",
       "      <th></th>\n",
       "      <th>medallion</th>\n",
       "      <th>hack_license</th>\n",
       "      <th>vendor_id</th>\n",
       "      <th>rate_code</th>\n",
       "      <th>store_and_fwd_flag</th>\n",
       "      <th>pickup_datetime</th>\n",
       "      <th>dropoff_datetime</th>\n",
       "      <th>passenger_count</th>\n",
       "      <th>trip_time_in_secs</th>\n",
       "      <th>trip_distance</th>\n",
       "      <th>pickup_longitude</th>\n",
       "      <th>pickup_latitude</th>\n",
       "      <th>dropoff_longitude</th>\n",
       "      <th>dropoff_latitude</th>\n",
       "      <th>pickup_taxizone_id</th>\n",
       "      <th>dropoff_taxizone_id</th>\n",
       "    </tr>\n",
       "  </thead>\n",
       "  <tbody>\n",
       "    <tr>\n",
       "      <th>0</th>\n",
       "      <td>2010000001</td>\n",
       "      <td>2010000001</td>\n",
       "      <td>VTS</td>\n",
       "      <td>1</td>\n",
       "      <td>NaN</td>\n",
       "      <td>2010-01-01 00:00:00</td>\n",
       "      <td>2010-01-01 00:34:00</td>\n",
       "      <td>1</td>\n",
       "      <td>34.0</td>\n",
       "      <td>14.05</td>\n",
       "      <td>-73.948418</td>\n",
       "      <td>40.724590</td>\n",
       "      <td>-73.926140</td>\n",
       "      <td>40.864761</td>\n",
       "      <td>112</td>\n",
       "      <td>127</td>\n",
       "    </tr>\n",
       "    <tr>\n",
       "      <th>16351</th>\n",
       "      <td>2010000001</td>\n",
       "      <td>2010000001</td>\n",
       "      <td>VTS</td>\n",
       "      <td>1</td>\n",
       "      <td>NaN</td>\n",
       "      <td>2010-01-01 00:38:00</td>\n",
       "      <td>2010-01-01 00:55:00</td>\n",
       "      <td>3</td>\n",
       "      <td>17.0</td>\n",
       "      <td>4.81</td>\n",
       "      <td>-73.924988</td>\n",
       "      <td>40.861774</td>\n",
       "      <td>-73.925735</td>\n",
       "      <td>40.809376</td>\n",
       "      <td>243</td>\n",
       "      <td>168</td>\n",
       "    </tr>\n",
       "    <tr>\n",
       "      <th>30295</th>\n",
       "      <td>2010000001</td>\n",
       "      <td>2010000001</td>\n",
       "      <td>VTS</td>\n",
       "      <td>1</td>\n",
       "      <td>NaN</td>\n",
       "      <td>2010-01-01 01:03:00</td>\n",
       "      <td>2010-01-01 01:13:00</td>\n",
       "      <td>2</td>\n",
       "      <td>10.0</td>\n",
       "      <td>2.30</td>\n",
       "      <td>-73.937386</td>\n",
       "      <td>40.797436</td>\n",
       "      <td>-73.968666</td>\n",
       "      <td>40.794395</td>\n",
       "      <td>74</td>\n",
       "      <td>151</td>\n",
       "    </tr>\n",
       "    <tr>\n",
       "      <th>36468</th>\n",
       "      <td>2010000001</td>\n",
       "      <td>2010000001</td>\n",
       "      <td>VTS</td>\n",
       "      <td>1</td>\n",
       "      <td>NaN</td>\n",
       "      <td>2010-01-01 01:14:00</td>\n",
       "      <td>2010-01-01 01:18:00</td>\n",
       "      <td>2</td>\n",
       "      <td>4.0</td>\n",
       "      <td>0.76</td>\n",
       "      <td>-73.968666</td>\n",
       "      <td>40.794495</td>\n",
       "      <td>-73.961273</td>\n",
       "      <td>40.796570</td>\n",
       "      <td>151</td>\n",
       "      <td>151</td>\n",
       "    </tr>\n",
       "    <tr>\n",
       "      <th>308897</th>\n",
       "      <td>2010000001</td>\n",
       "      <td>2010000001</td>\n",
       "      <td>VTS</td>\n",
       "      <td>1</td>\n",
       "      <td>NaN</td>\n",
       "      <td>2010-01-01 18:42:00</td>\n",
       "      <td>2010-01-01 19:10:00</td>\n",
       "      <td>1</td>\n",
       "      <td>28.0</td>\n",
       "      <td>17.74</td>\n",
       "      <td>-73.783813</td>\n",
       "      <td>40.648659</td>\n",
       "      <td>-73.971901</td>\n",
       "      <td>40.693054</td>\n",
       "      <td>132</td>\n",
       "      <td>97</td>\n",
       "    </tr>\n",
       "  </tbody>\n",
       "</table>\n",
       "</div>"
      ],
      "text/plain": [
       "         medallion   hack_license  vendor_id   rate_code  store_and_fwd_flag  \\\n",
       "0       2010000001     2010000001        VTS           1                 NaN   \n",
       "16351   2010000001     2010000001        VTS           1                 NaN   \n",
       "30295   2010000001     2010000001        VTS           1                 NaN   \n",
       "36468   2010000001     2010000001        VTS           1                 NaN   \n",
       "308897  2010000001     2010000001        VTS           1                 NaN   \n",
       "\n",
       "            pickup_datetime     dropoff_datetime   passenger_count  \\\n",
       "0       2010-01-01 00:00:00  2010-01-01 00:34:00                 1   \n",
       "16351   2010-01-01 00:38:00  2010-01-01 00:55:00                 3   \n",
       "30295   2010-01-01 01:03:00  2010-01-01 01:13:00                 2   \n",
       "36468   2010-01-01 01:14:00  2010-01-01 01:18:00                 2   \n",
       "308897  2010-01-01 18:42:00  2010-01-01 19:10:00                 1   \n",
       "\n",
       "         trip_time_in_secs   trip_distance   pickup_longitude  \\\n",
       "0                     34.0           14.05         -73.948418   \n",
       "16351                 17.0            4.81         -73.924988   \n",
       "30295                 10.0            2.30         -73.937386   \n",
       "36468                  4.0            0.76         -73.968666   \n",
       "308897                28.0           17.74         -73.783813   \n",
       "\n",
       "         pickup_latitude   dropoff_longitude   dropoff_latitude  \\\n",
       "0              40.724590          -73.926140          40.864761   \n",
       "16351          40.861774          -73.925735          40.809376   \n",
       "30295          40.797436          -73.968666          40.794395   \n",
       "36468          40.794495          -73.961273          40.796570   \n",
       "308897         40.648659          -73.971901          40.693054   \n",
       "\n",
       "        pickup_taxizone_id  dropoff_taxizone_id  \n",
       "0                      112                  127  \n",
       "16351                  243                  168  \n",
       "30295                   74                  151  \n",
       "36468                  151                  151  \n",
       "308897                 132                   97  "
      ]
     },
     "execution_count": 11,
     "metadata": {},
     "output_type": "execute_result"
    }
   ],
   "source": [
    "dff.head()"
   ]
  },
  {
   "cell_type": "code",
   "execution_count": 12,
   "metadata": {},
   "outputs": [
    {
     "data": {
      "text/plain": [
       "Index(['medallion', ' hack_license', ' vendor_id', ' rate_code',\n",
       "       ' store_and_fwd_flag', ' pickup_datetime', ' dropoff_datetime',\n",
       "       ' passenger_count', ' trip_time_in_secs', ' trip_distance',\n",
       "       ' pickup_longitude', ' pickup_latitude', ' dropoff_longitude',\n",
       "       ' dropoff_latitude', 'pickup_taxizone_id', 'dropoff_taxizone_id'],\n",
       "      dtype='object')"
      ]
     },
     "execution_count": 12,
     "metadata": {},
     "output_type": "execute_result"
    }
   ],
   "source": [
    "dff.columns"
   ]
  },
  {
   "cell_type": "code",
   "execution_count": 13,
   "metadata": {},
   "outputs": [],
   "source": [
    "dff.to_csv(\"../data/dr_1_2010_01.csv\")\n"
   ]
  },
  {
   "cell_type": "code",
   "execution_count": 15,
   "metadata": {},
   "outputs": [],
   "source": [
    "df_list = []\n",
    "df_list.append(dff)"
   ]
  },
  {
   "cell_type": "code",
   "execution_count": 17,
   "metadata": {},
   "outputs": [
    {
     "name": "stderr",
     "output_type": "stream",
     "text": [
      "/Users/anita/opt/anaconda3/envs/DiDi/lib/python3.7/site-packages/IPython/core/interactiveshell.py:3156: DtypeWarning: Columns (4) have mixed types.Specify dtype option on import or set low_memory=False.\n",
      "  interactivity=interactivity, compiler=compiler, result=result)\n",
      "/Users/anita/opt/anaconda3/envs/DiDi/lib/python3.7/site-packages/pyproj/crs/crs.py:53: FutureWarning: '+init=<authority>:<code>' syntax is deprecated. '<authority>:<code>' is the preferred initialization method. When making the change, be mindful of axis order changes: https://pyproj4.github.io/pyproj/stable/gotchas.html#axis-order-changes-in-proj-6\n",
      "  return _prepare_from_string(\" \".join(pjargs))\n",
      "/Users/anita/opt/anaconda3/envs/DiDi/lib/python3.7/site-packages/pyproj/crs/crs.py:53: FutureWarning: '+init=<authority>:<code>' syntax is deprecated. '<authority>:<code>' is the preferred initialization method. When making the change, be mindful of axis order changes: https://pyproj4.github.io/pyproj/stable/gotchas.html#axis-order-changes-in-proj-6\n",
      "  return _prepare_from_string(\" \".join(pjargs))\n"
     ]
    }
   ],
   "source": [
    "df_org= pd.read_csv(\"../data/trip_data_2.csv\", error_bad_lines=False)\n",
    "dr_1 = df_org.loc[(df_org[\" hack_license\"]==2010000001), :]\n",
    "dff = dr_1.copy()\n",
    "dff = dff.join(assign_taxi_zones(dff, \" pickup_longitude\", \" pickup_latitude\", \"pickup_taxizone_id\"))\n",
    "dff = dff.join(assign_taxi_zones(dff, \" dropoff_longitude\", \" dropoff_latitude\", \"dropoff_taxizone_id\"))\n",
    "dff.to_csv(\"../data/dr_1_2010_02.csv\")\n",
    "df_list.append(dff)"
   ]
  },
  {
   "cell_type": "code",
   "execution_count": 19,
   "metadata": {},
   "outputs": [
    {
     "name": "stderr",
     "output_type": "stream",
     "text": [
      "/Users/anita/opt/anaconda3/envs/DiDi/lib/python3.7/site-packages/pyproj/crs/crs.py:53: FutureWarning: '+init=<authority>:<code>' syntax is deprecated. '<authority>:<code>' is the preferred initialization method. When making the change, be mindful of axis order changes: https://pyproj4.github.io/pyproj/stable/gotchas.html#axis-order-changes-in-proj-6\n",
      "  return _prepare_from_string(\" \".join(pjargs))\n",
      "/Users/anita/opt/anaconda3/envs/DiDi/lib/python3.7/site-packages/pyproj/crs/crs.py:53: FutureWarning: '+init=<authority>:<code>' syntax is deprecated. '<authority>:<code>' is the preferred initialization method. When making the change, be mindful of axis order changes: https://pyproj4.github.io/pyproj/stable/gotchas.html#axis-order-changes-in-proj-6\n",
      "  return _prepare_from_string(\" \".join(pjargs))\n"
     ]
    }
   ],
   "source": [
    "df_org= pd.read_csv(\"../data/trip_data_3.csv\", error_bad_lines=False)\n",
    "dr_1 = df_org.loc[(df_org[\" hack_license\"]==2010000001), :]\n",
    "dff = dr_1.copy()\n",
    "dff = dff.join(assign_taxi_zones(dff, \" pickup_longitude\", \" pickup_latitude\", \"pickup_taxizone_id\"))\n",
    "dff = dff.join(assign_taxi_zones(dff, \" dropoff_longitude\", \" dropoff_latitude\", \"dropoff_taxizone_id\"))\n",
    "dff.to_csv(\"../data/dr_1_2010_03.csv\")\n",
    "df_list.append(dff)"
   ]
  },
  {
   "cell_type": "code",
   "execution_count": 20,
   "metadata": {},
   "outputs": [
    {
     "data": {
      "text/plain": [
       "(773, 16)"
      ]
     },
     "execution_count": 20,
     "metadata": {},
     "output_type": "execute_result"
    }
   ],
   "source": [
    "dr_1_2010_Q1 = pd.concat(df_list)\n",
    "dr_1_2010_Q1.shape"
   ]
  },
  {
   "cell_type": "code",
   "execution_count": null,
   "metadata": {},
   "outputs": [],
   "source": [
    "dr_1_2010_Q1.to_csv()"
   ]
  }
 ],
 "metadata": {
  "kernelspec": {
   "display_name": "Python 3",
   "language": "python",
   "name": "python3"
  },
  "language_info": {
   "codemirror_mode": {
    "name": "ipython",
    "version": 3
   },
   "file_extension": ".py",
   "mimetype": "text/x-python",
   "name": "python",
   "nbconvert_exporter": "python",
   "pygments_lexer": "ipython3",
   "version": "3.7.7"
  }
 },
 "nbformat": 4,
 "nbformat_minor": 4
}
